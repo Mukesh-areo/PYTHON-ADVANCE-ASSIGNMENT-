{
 "cells": [
  {
   "cell_type": "markdown",
   "id": "5a4fc6c0",
   "metadata": {},
   "source": [
    "## PYTHON ADVANCE ASSIGNMENT -25"
   ]
  },
  {
   "cell_type": "markdown",
   "id": "5216accd",
   "metadata": {},
   "source": [
    "### Q1. What is the distinction between a numpy array and a pandas data frame? Is there a way to convert between the two if there is ?\n",
    "   Numpy Ndarray provides a lot of convenient and optimized methods for performing several mathematical operations on vectors.\n",
    "\n",
    "  Pandas Dataframe is an in-memory 2-dimensional tabular representation of data. In simpler words, it can be seen as a spreadsheet having rows and columns.\n",
    "\n",
    "   Conversion : Dataframe=pandas.DataFrame(array)\n",
    "\n",
    "\n",
    "\n"
   ]
  },
  {
   "cell_type": "markdown",
   "id": "85391b76",
   "metadata": {},
   "source": [
    "### Q2. What can go wrong when an user enters in a stock-ticker symbol, and how do you handle it?\n",
    "    -A ticker symbol is the grouping of a specific set of characters that represent and identify a public security listed on an exchange.\n",
    "    -The ticker symbol of an acquired company usually changes to the acquirer's after the completion of a merger.\n",
    "    -A company that changes its name may change its ticker.\n",
    "    -When companies are delisted from their exchanges, the symbol changes.\n",
    "    -Investors don't need to do anything after a ticker symbol changes."
   ]
  },
  {
   "cell_type": "markdown",
   "id": "1bd07d0c",
   "metadata": {},
   "source": [
    "### Q3. Identify some of the plotting techniques that are used to produce a stock-market chart ?\n",
    " Bar chart, Line Chart are used for plotting.\n",
    "\n"
   ]
  },
  {
   "cell_type": "markdown",
   "id": "774b6a4b",
   "metadata": {},
   "source": [
    "### Q4. Why is it essential to print a legend on a stock market chart ?\n",
    " Legend will help comparison between different stocks, so will be essential on a stock market chart\n",
    "\n"
   ]
  },
  {
   "cell_type": "markdown",
   "id": "783e525b",
   "metadata": {},
   "source": [
    "### Q5. What is the best way to limit the length of a pandas data frame to less than a year ?\n",
    " We can use start and end parameters for that. In start we write the date from where we are starting and at the end we write the end date. SO within this span we can restric the duration.Also we can use the parameters like periods for how much times we need the duration and we can also use the frequency parameter.\n",
    "\n"
   ]
  },
  {
   "cell_type": "markdown",
   "id": "de637b9b",
   "metadata": {},
   "source": [
    "### Q6. What is the definition of a 180-day moving average ?\n",
    " The 180-day moving average is represented as a line on charts and represents the average price over the past 180 days. The moving average can give traders a sense regarding whether the trend is up or down, while also identifying potential support or resistance areas.\n",
    "\n"
   ]
  }
 ],
 "metadata": {
  "kernelspec": {
   "display_name": "Python 3 (ipykernel)",
   "language": "python",
   "name": "python3"
  },
  "language_info": {
   "codemirror_mode": {
    "name": "ipython",
    "version": 3
   },
   "file_extension": ".py",
   "mimetype": "text/x-python",
   "name": "python",
   "nbconvert_exporter": "python",
   "pygments_lexer": "ipython3",
   "version": "3.9.7"
  }
 },
 "nbformat": 4,
 "nbformat_minor": 5
}
