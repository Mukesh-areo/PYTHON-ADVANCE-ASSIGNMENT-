{
 "cells": [
  {
   "cell_type": "markdown",
   "id": "7fae47f2",
   "metadata": {},
   "source": [
    "### PYTHON ADVANCE ASSIGNMENT -8\n"
   ]
  },
  {
   "cell_type": "markdown",
   "id": "2b89a8ba",
   "metadata": {},
   "source": [
    "### Q1. What are the two latest user-defined exception constraints in Python 3.X?\n",
    "raise and assert are the two latest user-defined exception constraints in Python 3.X\n",
    "\n",
    "\n",
    "\n",
    "\n"
   ]
  },
  {
   "cell_type": "markdown",
   "id": "7925e1a7",
   "metadata": {},
   "source": [
    "### Q2. How are class-based exceptions that have been raised matched to handlers?\n",
    "In python, Users can define custom exceptions by creating a new class. This exception class has to be derived, either directly or indirectly from built-in Exception class. This new exception class like other exceptions can be raised using the raise statement with an optional error message.\n",
    "\n"
   ]
  },
  {
   "cell_type": "code",
   "execution_count": 16,
   "id": "5d5153d1",
   "metadata": {},
   "outputs": [
    {
     "ename": "ToYoungException",
     "evalue": "To Young For Voting",
     "output_type": "error",
     "traceback": [
      "\u001b[1;31m---------------------------------------------------------------------------\u001b[0m",
      "\u001b[1;31mToYoungException\u001b[0m                          Traceback (most recent call last)",
      "\u001b[1;32m<ipython-input-16-b97f009151c8>\u001b[0m in \u001b[0;36m<module>\u001b[1;34m\u001b[0m\n\u001b[0;32m      3\u001b[0m         \u001b[0mself\u001b[0m\u001b[1;33m.\u001b[0m\u001b[0mmsg\u001b[0m \u001b[1;33m=\u001b[0m \u001b[0mmsg\u001b[0m\u001b[1;33m\u001b[0m\u001b[1;33m\u001b[0m\u001b[0m\n\u001b[0;32m      4\u001b[0m \u001b[0mage\u001b[0m \u001b[1;33m=\u001b[0m \u001b[1;36m12\u001b[0m\u001b[1;33m\u001b[0m\u001b[1;33m\u001b[0m\u001b[0m\n\u001b[1;32m----> 5\u001b[1;33m \u001b[1;32mif\u001b[0m \u001b[0mage\u001b[0m \u001b[1;33m<=\u001b[0m \u001b[1;36m18\u001b[0m\u001b[1;33m:\u001b[0m \u001b[1;32mraise\u001b[0m \u001b[0mToYoungException\u001b[0m\u001b[1;33m(\u001b[0m\u001b[1;34m'To Young For Voting'\u001b[0m\u001b[1;33m)\u001b[0m\u001b[1;33m\u001b[0m\u001b[1;33m\u001b[0m\u001b[0m\n\u001b[0m",
      "\u001b[1;31mToYoungException\u001b[0m: To Young For Voting"
     ]
    }
   ],
   "source": [
    "class ToYoungException(Exception):\n",
    "    def __init__(self,msg):\n",
    "        self.msg = msg\n",
    "age = 12\n",
    "if age <= 18: raise ToYoungException('To Young For Voting')"
   ]
  },
  {
   "cell_type": "markdown",
   "id": "07592a02",
   "metadata": {},
   "source": [
    "### Q3. Describe two methods for attaching context information to exception artefacts ?\n",
    "The process() method of LoggerAdapter is where the contextual information is added to the logging output. its passes the message and keyword arguments of the logging call, and it passes back modified versions of these to use in the call to the underlying logger.\n",
    "\n",
    "Other method that can be used is exception(), Logs a messgae with level ERROR on this logger. The arguments are interpreted as for debug(). Exception info is added to the logging message."
   ]
  },
  {
   "cell_type": "markdown",
   "id": "030625e7",
   "metadata": {},
   "source": [
    "### Q4. Describe two methods for specifying the text of an exception object's error message ?\n",
    " raise and assert are two methods for specifying the text of an exception object's error message.raise statement is used to trigger explicit exception, if certain condition is not as per requirement of programmer. it helps in triggering exception as per need of programmer and logic.\n",
    "\n",
    "There are few assertions that programmer always want to be True to avoid code failure. This type of requirment is fullfilled by assert statement. This statement takes a Boolean Condition output of which if True, further program executes. if output of assert statement is False it raises an Assertion Error.\n",
    "\n"
   ]
  },
  {
   "cell_type": "markdown",
   "id": "3d005cd0",
   "metadata": {},
   "source": [
    "### Q5. Why do you no longer use string-based exceptions?\n",
    "String-based Exceptions doesn't inherit from Exceptions. so plain exceptions catch all exceptions and not only system.\n"
   ]
  }
 ],
 "metadata": {
  "kernelspec": {
   "display_name": "Python 3",
   "language": "python",
   "name": "python3"
  },
  "language_info": {
   "codemirror_mode": {
    "name": "ipython",
    "version": 3
   },
   "file_extension": ".py",
   "mimetype": "text/x-python",
   "name": "python",
   "nbconvert_exporter": "python",
   "pygments_lexer": "ipython3",
   "version": "3.8.8"
  }
 },
 "nbformat": 4,
 "nbformat_minor": 5
}
