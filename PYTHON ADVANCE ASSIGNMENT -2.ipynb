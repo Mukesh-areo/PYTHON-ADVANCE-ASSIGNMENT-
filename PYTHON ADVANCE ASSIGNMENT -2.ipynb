{
 "cells": [
  {
   "cell_type": "markdown",
   "id": "7fae47f2",
   "metadata": {},
   "source": [
    "### PYTHON ADVANCE ASSIGNMENT -2\n"
   ]
  },
  {
   "cell_type": "markdown",
   "id": "4dc54191",
   "metadata": {},
   "source": [
    "### Q1. What is the relationship between classes and modules?\n",
    "\n",
    "The difference between a class and a module in python is that a class is used to define a blueprint for a given object, whereas a module is used to reuse a given piece of code inside another program.\n",
    "\n",
    "A class can have its own instance, but a module cannot be instantiated. We use the ‘class’ keyword to define a class, whereas to use modules, we use the ‘import’ keyword. We can inherit a particular class and modify it using inheritance. But while using modules, it is simply a code containing variables, functions, and classes.\n",
    "\n",
    "Modules are files present inside a package, whereas a class is used to encapsulate data and functions together inside the same unit.\n",
    "\n"
   ]
  },
  {
   "cell_type": "markdown",
   "id": "7925e1a7",
   "metadata": {},
   "source": [
    "### Q2.  How do you make instances and classes?\n",
    "\n",
    "When you create an object, you are creating an instance of a class, therefore “instantiating” a class. The new operator requires a single, postfix argument: a call to a constructor. The name of the constructor provides the name of the class to instantiate. The constructor initializes the new object."
   ]
  },
  {
   "cell_type": "markdown",
   "id": "07592a02",
   "metadata": {},
   "source": [
    "### Q3.Where and how should be class attributes created?\n",
    "Class attributes are attributes which are owned by the class itself. They will be shared by all the instances of the class. Therefore they have the same value for every instance. We define class attributes outside all the methods, usually they are placed at the top, right below the class header.\n"
   ]
  },
  {
   "cell_type": "code",
   "execution_count": 1,
   "id": "6c1aa379",
   "metadata": {},
   "outputs": [
    {
     "data": {
      "text/plain": [
       "'I am a class attribute!'"
      ]
     },
     "execution_count": 1,
     "metadata": {},
     "output_type": "execute_result"
    }
   ],
   "source": [
    "class A:\n",
    "    a = \"I am a class attribute!\"\n",
    "x = A()\n",
    "y = A()\n",
    "x.a"
   ]
  },
  {
   "cell_type": "markdown",
   "id": "030625e7",
   "metadata": {},
   "source": [
    "### Q4.Where and how are instance attributes created?\n",
    "Unlike class attributes, instance attributes are not shared by objects. Every object has its own copy of the instance attribute (In case of class attributes all object refer to single copy).\n",
    "\n",
    "To list the attributes of an instance/object, we have two functions:-\n",
    "1. vars()– This function displays the attribute of an instance in the form of an dictionary.\n",
    "2. dir()– This function displays more attributes than vars function,as it is not limited to instance. It displays the class attributes as well. It also displays the attributes of its ancestor classes.\n"
   ]
  },
  {
   "cell_type": "code",
   "execution_count": 2,
   "id": "b8e91c8a",
   "metadata": {},
   "outputs": [
    {
     "name": "stdout",
     "output_type": "stream",
     "text": [
      "Dictionary form : {'name': 'xyz', 'salary': 4000}\n",
      "['__class__', '__delattr__', '__dict__', '__dir__', '__doc__', '__eq__', '__format__', '__ge__', '__getattribute__', '__gt__', '__hash__', '__init__', '__init_subclass__', '__le__', '__lt__', '__module__', '__ne__', '__new__', '__reduce__', '__reduce_ex__', '__repr__', '__setattr__', '__sizeof__', '__str__', '__subclasshook__', '__weakref__', 'name', 'salary', 'show']\n"
     ]
    }
   ],
   "source": [
    "# instance attributes.\n",
    "class emp:\n",
    "    def __init__(self):\n",
    "        self.name = 'xyz'\n",
    "        self.salary = 4000\n",
    "  \n",
    "    def show(self):\n",
    "        print(self.name)\n",
    "        print(self.salary)\n",
    "  \n",
    "e1 = emp()\n",
    "print(\"Dictionary form :\", vars(e1))\n",
    "print(dir(e1))"
   ]
  },
  {
   "cell_type": "markdown",
   "id": "3d005cd0",
   "metadata": {},
   "source": [
    "### Q5.What does the term self in a Python class mean?\n",
    "\n",
    "The self parameter is a reference to the current instance of the class, and is used to access variables that belongs to the class.\n",
    "\n",
    "It does not have to be named self , you can call it whatever you like, but it has to be the first parameter of any function in the class:"
   ]
  },
  {
   "cell_type": "code",
   "execution_count": 3,
   "id": "9ebe11e2",
   "metadata": {
    "scrolled": true
   },
   "outputs": [
    {
     "name": "stdout",
     "output_type": "stream",
     "text": [
      "Hello my name is John\n"
     ]
    }
   ],
   "source": [
    "class Person:\n",
    "  def __init__(mysillyobject, name, age):\n",
    "    mysillyobject.name = name\n",
    "    mysillyobject.age = age\n",
    "\n",
    "  def myfunc(abc):\n",
    "    print(\"Hello my name is \" + abc.name)\n",
    "\n",
    "p1 = Person(\"John\", 36)\n",
    "p1.myfunc()"
   ]
  },
  {
   "cell_type": "markdown",
   "id": "bf1a5eaa",
   "metadata": {},
   "source": [
    "### Q6. How does a Python class handle operator overloading?\n",
    "Consider that we have two objects which are a physical representation of a class (user-defined data type) and we have to add two objects with binary ‘+’ operator it throws an error, because compiler don’t know how to add two objects. So we define a method for an operator and that process is called operator overloading. We can overload all existing operators but we can’t create a new operator. To perform operator overloading, Python provides some special function or magic function that is automatically invoked when it is associated with that particular operator. For example, when we use + operator, the magic method __add__ is automatically invoked in which the operation for + operator"
   ]
  },
  {
   "cell_type": "code",
   "execution_count": 5,
   "id": "191c0b27",
   "metadata": {},
   "outputs": [
    {
     "name": "stdout",
     "output_type": "stream",
     "text": [
      "3\n",
      "ineuron\n"
     ]
    }
   ],
   "source": [
    "class A:\n",
    "    def __init__(self, a):\n",
    "        self.a = a\n",
    " \n",
    "    # adding two objects\n",
    "    def __add__(self, o):\n",
    "        return self.a + o.a\n",
    "ob1 = A(1)\n",
    "ob2 = A(2)\n",
    "ob3 = A(\"i\")\n",
    "ob4 = A(\"neuron\")\n",
    " \n",
    "print(ob1 + ob2)\n",
    "print(ob3 + ob4)"
   ]
  },
  {
   "cell_type": "markdown",
   "id": "64680def",
   "metadata": {},
   "source": [
    "\n",
    "### Q7.When do you consider allowing operator overloading of your classes?\n",
    "When we use an operator on user defined data types then automatically a special function or magic function associated with that operator is invoked. Changing the behavior of operator is as simple as changing the behavior of method or function. You define methods in your class and operators work according to that behavior defined in methods. When we use + operator, the magic method __add__ is automatically invoked in which the operation for + operator is defined. There by changing this magic method’s code, we can give extra meaning to the + operator. \n"
   ]
  },
  {
   "cell_type": "markdown",
   "id": "97cdb6c8",
   "metadata": {},
   "source": [
    "### Q8. What is the most popular form of operator overloading?\n",
    "The most frequent instance is the adding up operator ‘+’, where it can be used for usual addition and also for combining two different strings.\n"
   ]
  },
  {
   "cell_type": "markdown",
   "id": "69ff70d7",
   "metadata": {},
   "source": [
    "### Q9. What are the two most important concepts to grasp in order to comprehend Python OOP code?\n",
    "class and objects are the two important concept to grasp in order to comprehend oops code"
   ]
  }
 ],
 "metadata": {
  "kernelspec": {
   "display_name": "Python 3",
   "language": "python",
   "name": "python3"
  },
  "language_info": {
   "codemirror_mode": {
    "name": "ipython",
    "version": 3
   },
   "file_extension": ".py",
   "mimetype": "text/x-python",
   "name": "python",
   "nbconvert_exporter": "python",
   "pygments_lexer": "ipython3",
   "version": "3.8.8"
  }
 },
 "nbformat": 4,
 "nbformat_minor": 5
}
